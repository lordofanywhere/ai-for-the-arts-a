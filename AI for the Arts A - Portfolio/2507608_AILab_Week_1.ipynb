{
 "cells": [
  {
   "cell_type": "markdown",
   "id": "72c6664e",
   "metadata": {},
   "source": [
    "# Week 1: Getting started with Anaconda, Jupyter Notebook and Python\n",
    "\n",
    "Exercises o familiarise myself with Jupyter Notebook and its relationship with Python\n",
    "\n",
    "__a)\tWhy you chose to join this course – for, motivation, vision, aspiration?__\n",
    "        I chose this course because I am very excited about the progress in AI technologies andc its potential for change the way we create and curate art.\n",
    "        \n",
    "__b)\tPrior experience, if any, you have with AI and/or Python__ \n",
    "        No, this is the first time I use Python. I have used generative AI tools, however.\n",
    "        \n",
    "__c)\tWhat you expect to learn from the course (aim for 3-5 bullet points)__\n",
    "        - The different types of AI and how they can be used to create and curate art\n",
    "        - Use AI tools practically tocreate art\n",
    "        - Technical, social and cultural dimensions of the use of AI"
   ]
  },
  {
   "cell_type": "code",
   "execution_count": null,
   "id": "9265b9c4",
   "metadata": {},
   "outputs": [],
   "source": [
    "print (\"Hello World!\")"
   ]
  },
  {
   "cell_type": "code",
   "execution_count": null,
   "id": "4ace91d1",
   "metadata": {},
   "outputs": [],
   "source": [
    "message = \"Hello World!\"\n",
    "print (message)"
   ]
  },
  {
   "cell_type": "code",
   "execution_count": null,
   "id": "4b5a72be",
   "metadata": {},
   "outputs": [],
   "source": [
    "message = \"Hello World, my name is Emilio! This is my first incursion into AI\"\n",
    "print (message)"
   ]
  },
  {
   "cell_type": "code",
   "execution_count": null,
   "id": "dbf6d239",
   "metadata": {},
   "outputs": [],
   "source": [
    "message = \"Hello World, my name is Emilio! This is my first incursion into AI\"\n",
    "print (message + message)"
   ]
  },
  {
   "cell_type": "code",
   "execution_count": null,
   "id": "11c8f19f",
   "metadata": {},
   "outputs": [],
   "source": [
    "message = \"Hello World, my name is Emilio! This is my first incursion into AI\"\n",
    "print (message*3)"
   ]
  },
  {
   "cell_type": "code",
   "execution_count": null,
   "id": "47047cd9",
   "metadata": {},
   "outputs": [],
   "source": [
    "message = \"Hello World, my name is Emilio! This is my first incursion into AI\"\n",
    "print (message[0])"
   ]
  },
  {
   "cell_type": "code",
   "execution_count": null,
   "id": "7123db3f",
   "metadata": {},
   "outputs": [],
   "source": [
    "message = \"Hello World, my name is Emilio! This is my first incursion into AI\"\n",
    "print (message[2])"
   ]
  },
  {
   "cell_type": "code",
   "execution_count": null,
   "id": "686dc3eb",
   "metadata": {},
   "outputs": [],
   "source": [
    "message = \"Hello World, my name is Emilio! This is my first incursion into AI\"\n",
    "print (message[1])"
   ]
  },
  {
   "cell_type": "code",
   "execution_count": null,
   "id": "40a145cf",
   "metadata": {},
   "outputs": [],
   "source": [
    "greeting = \"Hello World!\"\n",
    "print (greeting)"
   ]
  },
  {
   "cell_type": "code",
   "execution_count": null,
   "id": "761982ff",
   "metadata": {},
   "outputs": [],
   "source": [
    "print (message + greeting)"
   ]
  },
  {
   "cell_type": "code",
   "execution_count": null,
   "id": "cf5293fd",
   "metadata": {},
   "outputs": [],
   "source": [
    "from IPython.display import *"
   ]
  },
  {
   "cell_type": "code",
   "execution_count": null,
   "id": "dfb13d47",
   "metadata": {},
   "outputs": [],
   "source": [
    "YouTubeVideo(\"4eA-X4P5EBo\")"
   ]
  },
  {
   "cell_type": "code",
   "execution_count": null,
   "id": "49f3d2b6",
   "metadata": {},
   "outputs": [],
   "source": [
    "import webbrowser\n",
    "import requests\n",
    "\n",
    "print(\"Shall we hunt down an old website?\")\n",
    "site = input(\"Type a website URL: \")\n",
    "era = input(\"Type year, month, and date, e.g., 20150613: \")\n",
    "url = \"http://archive.org/wayback/available?url=%s&timestamp=%s\" % (site, era)\n",
    "response = requests.get(url)\n",
    "data = response.json()\n",
    "try:\n",
    "    old_site = data[\"archived_snapshots\"][\"closest\"][\"url\"]\n",
    "    print(\"Found this copy: \", old_site)\n",
    "    print(\"It should appear in your browser.\")\n",
    "    webbrowser.open(old_site)\n",
    "except:\n",
    "    print(\"Sorry, could not find the site.\")\n",
    "# anotating comments"
   ]
  },
  {
   "cell_type": "markdown",
   "id": "814e9b29",
   "metadata": {},
   "source": [
    "# Week 2: Exploring Data in Multiple Ways"
   ]
  },
  {
   "cell_type": "code",
   "execution_count": null,
   "id": "20689d2e",
   "metadata": {},
   "outputs": [],
   "source": [
    "from IPython.display import Image"
   ]
  },
  {
   "cell_type": "code",
   "execution_count": null,
   "id": "b6788ee6",
   "metadata": {},
   "outputs": [],
   "source": [
    "Image (\"picture1.jpg\")"
   ]
  },
  {
   "cell_type": "code",
   "execution_count": null,
   "id": "7e1b04ca",
   "metadata": {},
   "outputs": [],
   "source": [
    "Image (\"picture1.jpg\")"
   ]
  },
  {
   "cell_type": "code",
   "execution_count": null,
   "id": "d045bc84",
   "metadata": {},
   "outputs": [],
   "source": [
    "Audio (\"audio1.mid\")"
   ]
  },
  {
   "cell_type": "code",
   "execution_count": null,
   "id": "49df5cd7",
   "metadata": {},
   "outputs": [],
   "source": [
    "Audio (\"audio2.ogg\")"
   ]
  },
  {
   "cell_type": "markdown",
   "id": "bf10bd81",
   "metadata": {},
   "source": [
    "The OGG file plays but the MID file does not play, probably due to the codecs and libraries available on the local computer used."
   ]
  },
  {
   "cell_type": "code",
   "execution_count": null,
   "id": "d953df7c",
   "metadata": {},
   "outputs": [],
   "source": [
    "# This file is licensed under the Creative Commons Attribution-Share Alike 3.0 Unported license.\n",
    "# You are free: \n",
    "# •\tto share – to copy, distribute and transmit the work\n",
    "# •\tto remix – to adapt the work\n",
    "# Under the following conditions: \n",
    "# •\tattribution – You must give appropriate credit, provide a link to the license, and indicate if changes were made. You may do so in any reasonable manner, but not in any way that suggests the licensor endorses you or your use.\n",
    "# •\tshare alike – If you remix, transform, or build upon the material, you must distribute your contributions under the same or compatible license as the original.\n",
    "# The original ogg file was found at the url: \n",
    "# https://en.wikipedia.org/wiki/File:GoldbergVariations_MehmetOkonsar-1of3_Var1to10.ogg\n"
   ]
  },
  {
   "cell_type": "code",
   "execution_count": null,
   "id": "a27d73cb",
   "metadata": {},
   "outputs": [],
   "source": [
    "from matplotlib import pyplot"
   ]
  },
  {
   "cell_type": "code",
   "execution_count": null,
   "id": "f8b570b2",
   "metadata": {},
   "outputs": [],
   "source": [
    "from matplotlib import pyplot\n",
    "test_picture = pyplot.imread(\"picture1.jpg\")\n",
    "print(\"Numpy array of the image is: \", test_picture)\n",
    "pyplot.imshow(test_picture)"
   ]
  },
  {
   "cell_type": "code",
   "execution_count": null,
   "id": "9a50ea6e",
   "metadata": {},
   "outputs": [],
   "source": [
    "test_picture_filtered = 2*test_picture/3"
   ]
  },
  {
   "cell_type": "code",
   "execution_count": null,
   "id": "582a605a",
   "metadata": {},
   "outputs": [],
   "source": [
    "pyplot.imshow(test_picture_filtered)"
   ]
  },
  {
   "cell_type": "markdown",
   "id": "9fd04484",
   "metadata": {},
   "source": [
    "In this plot chart, I believe we can see the image, with the CMY (cyan–magenta–yellow) colour points filtered. "
   ]
  },
  {
   "cell_type": "markdown",
   "id": "6d66f3b9",
   "metadata": {},
   "source": [
    "# Week 3: Exploring scikit-learn (a.k.a sklearn)"
   ]
  },
  {
   "cell_type": "code",
   "execution_count": null,
   "id": "0dbc7755",
   "metadata": {},
   "outputs": [],
   "source": [
    "from sklearn import datasets"
   ]
  },
  {
   "cell_type": "code",
   "execution_count": null,
   "id": "6e0402a8",
   "metadata": {
    "scrolled": true
   },
   "outputs": [],
   "source": [
    "dir(datasets)"
   ]
  },
  {
   "cell_type": "markdown",
   "id": "81a6f6ce",
   "metadata": {},
   "source": [
    "I have chosen 'load_breast_cancer' and 'load_diabetes' as I am curious as to what these mean in this context."
   ]
  },
  {
   "cell_type": "code",
   "execution_count": null,
   "id": "8047471a",
   "metadata": {},
   "outputs": [],
   "source": [
    "breast_cancer_data = datasets.load_breast_cancer()"
   ]
  },
  {
   "cell_type": "code",
   "execution_count": null,
   "id": "ab1280ea",
   "metadata": {},
   "outputs": [],
   "source": [
    "diabetes_data = datasets.load_diabetes()"
   ]
  },
  {
   "cell_type": "code",
   "execution_count": null,
   "id": "03aeb5fb",
   "metadata": {
    "scrolled": true
   },
   "outputs": [],
   "source": [
    "breast_cancer_data.DESCR"
   ]
  },
  {
   "cell_type": "code",
   "execution_count": null,
   "id": "b7796c03",
   "metadata": {},
   "outputs": [],
   "source": [
    "print(breast_cancer_data.DESCR)"
   ]
  },
  {
   "cell_type": "raw",
   "id": "bf94744b",
   "metadata": {},
   "source": [
    "diabetes_data.DESCR"
   ]
  },
  {
   "cell_type": "code",
   "execution_count": null,
   "id": "bce9770e",
   "metadata": {},
   "outputs": [],
   "source": [
    "print(diabetes_data.DESCR)"
   ]
  },
  {
   "cell_type": "code",
   "execution_count": null,
   "id": "d174eb77",
   "metadata": {},
   "outputs": [],
   "source": [
    "breast_cancer_data.feature_names"
   ]
  },
  {
   "cell_type": "code",
   "execution_count": null,
   "id": "111ed814",
   "metadata": {},
   "outputs": [],
   "source": [
    "diabetes_data.feature_names"
   ]
  },
  {
   "cell_type": "code",
   "execution_count": null,
   "id": "c714f171",
   "metadata": {},
   "outputs": [],
   "source": [
    "breast_cancer_data.target_names"
   ]
  },
  {
   "cell_type": "code",
   "execution_count": null,
   "id": "a197aa01",
   "metadata": {
    "scrolled": true
   },
   "outputs": [],
   "source": [
    "diabetes_data.keys()"
   ]
  },
  {
   "cell_type": "code",
   "execution_count": null,
   "id": "60ed1c38",
   "metadata": {},
   "outputs": [],
   "source": [
    "diabetes_data.target"
   ]
  },
  {
   "cell_type": "code",
   "execution_count": null,
   "id": "c1da9c8a",
   "metadata": {},
   "outputs": [],
   "source": [
    "from sklearn import datasets\n",
    "import pandas\n",
    "\n",
    "breast_cancer_data = datasets.load_breast_cancer()\n",
    "\n",
    "breast_cancer_dataframe = pandas.DataFrame(data=breast_cancer_data['data'], columns = breast_cancer_data['feature_names'])"
   ]
  },
  {
   "cell_type": "code",
   "execution_count": null,
   "id": "92ffa4fd",
   "metadata": {
    "scrolled": true
   },
   "outputs": [],
   "source": [
    "breast_cancer_dataframe.head()"
   ]
  },
  {
   "cell_type": "code",
   "execution_count": null,
   "id": "dbd36fac",
   "metadata": {
    "scrolled": true
   },
   "outputs": [],
   "source": [
    "breast_cancer_dataframe.describe"
   ]
  },
  {
   "cell_type": "code",
   "execution_count": null,
   "id": "ae1a9b8d",
   "metadata": {},
   "outputs": [],
   "source": [
    "wine_data = datasets.load_wine()"
   ]
  },
  {
   "cell_type": "code",
   "execution_count": null,
   "id": "de1045f4",
   "metadata": {},
   "outputs": [],
   "source": [
    "wine_data.DESCR"
   ]
  },
  {
   "cell_type": "code",
   "execution_count": null,
   "id": "0ea23b82",
   "metadata": {},
   "outputs": [],
   "source": [
    "print(wine_data.DESCR)"
   ]
  },
  {
   "cell_type": "code",
   "execution_count": null,
   "id": "3a496acd",
   "metadata": {},
   "outputs": [],
   "source": [
    "wine_data.feature_names"
   ]
  },
  {
   "cell_type": "code",
   "execution_count": null,
   "id": "7853846e",
   "metadata": {},
   "outputs": [],
   "source": [
    "wine_data.keys()"
   ]
  },
  {
   "cell_type": "code",
   "execution_count": null,
   "id": "8d6d47e9",
   "metadata": {},
   "outputs": [],
   "source": [
    "from sklearn import datasets\n",
    "import pandas\n",
    "\n",
    "wine_data = datasets.load_wine()\n",
    "\n",
    "wine_dataframe = pandas.DataFrame(data=wine_data['data'], columns = wine_data['feature_names'])"
   ]
  },
  {
   "cell_type": "code",
   "execution_count": null,
   "id": "4298eff1",
   "metadata": {},
   "outputs": [],
   "source": [
    "wine_dataframe.head()"
   ]
  },
  {
   "cell_type": "code",
   "execution_count": null,
   "id": "4397aef1",
   "metadata": {},
   "outputs": [],
   "source": [
    "wine_dataframe.describe()"
   ]
  },
  {
   "cell_type": "markdown",
   "id": "752ea9b7",
   "metadata": {},
   "source": [
    "## Discussion: Basic Data Exploration with Python library Pandas\n",
    "\n",
    "I believe that the command wine_dataframe.head() creates a table for the elements on the database, and apply headers based on the attributes of the data stored.\n",
    "\n",
    "The command wine_dataframe.describe() describes some statistics of the dataset."
   ]
  },
  {
   "cell_type": "markdown",
   "id": "40b03d66",
   "metadata": {},
   "source": [
    "## Discussion: Thinking about data bias"
   ]
  },
  {
   "cell_type": "markdown",
   "id": "12e44a6b",
   "metadata": {},
   "source": [
    "First I would explore and understand how the data in the datasets I'm using was generated. Once I understand the potential biases, I would create a strategy to pre-process the data or obtain additional data, and an Exploratory Data Analysis strategy.\n",
    "\n",
    "I would consider using datasets and creating an open model, so I can make it publicly available for data scrutiny.\n",
    "\n",
    "I would balance any data procedent from reviews or social media posts with data obtained from a representative sample of people that would not have shared their opinion unprompted (through a survey, for example).\n",
    "\n",
    "Another similar approach would be balancing responses to popular items (e.g. in recommendation systems) with prompting responses for items without a known rating, as well as randomising the way these are presented, or using propensity weighting techniques.\n",
    "\n",
    "I would also seek to balance the data collected for the model by collecting data from demographics not represented in the initial datasets."
   ]
  }
 ],
 "metadata": {
  "kernelspec": {
   "display_name": "Python 3 (ipykernel)",
   "language": "python",
   "name": "python3"
  },
  "language_info": {
   "codemirror_mode": {
    "name": "ipython",
    "version": 3
   },
   "file_extension": ".py",
   "mimetype": "text/x-python",
   "name": "python",
   "nbconvert_exporter": "python",
   "pygments_lexer": "ipython3",
   "version": "3.11.5"
  }
 },
 "nbformat": 4,
 "nbformat_minor": 5
}
